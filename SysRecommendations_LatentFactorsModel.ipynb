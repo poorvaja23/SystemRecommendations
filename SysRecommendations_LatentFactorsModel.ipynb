{
 "cells": [
  {
   "cell_type": "code",
   "execution_count": 18,
   "metadata": {},
   "outputs": [],
   "source": [
    "import pandas as pd #load data into table formats(data frames)\n",
    "datafile='BX-CSV-Dump\\\\BX-Book-Ratings.csv'\n",
    "data= pd.read_csv(datafile,sep=\";\",encoding = \"ISO-8859-1\",header=0,names=[\"user\",\"isbn\",\"rating\"])"
   ]
  },
  {
   "cell_type": "code",
   "execution_count": 19,
   "metadata": {},
   "outputs": [],
   "source": [
    "bookfile='BX-CSV-Dump\\\\BX-Books.csv'\n",
    "#error_bad_lines : ignores any rows that have error: in this case rows with more columns than expected\n",
    "#index_col : col names should be taken from row 0 isbn col\n",
    "books = pd.read_csv(bookfile,encoding = \"ISO-8859-1\",sep=\";\",header=0,error_bad_lines=False,usecols=[0,1,2],index_col=0,names=[\"isbn\",\"title\",\"author\"])"
   ]
  },
  {
   "cell_type": "code",
   "execution_count": 20,
   "metadata": {},
   "outputs": [],
   "source": [
    "def favBooks(user, N):\n",
    "    #get all data related to current user\n",
    "    userRatings=data[data[\"user\"]==user]\n",
    "    #sort the current users ratings in descending order and pick top N rated books\n",
    "    sortedRatings = pd.DataFrame.sort_values(userRatings,['rating'], ascending=0)[:N]\n",
    "    #add the title column to the N sorted highly rated books\n",
    "    sortedRatings[\"title\"]=sortedRatings[\"isbn\"].apply(bookMeta)\n",
    "    return sortedRatings"
   ]
  },
  {
   "cell_type": "code",
   "execution_count": 30,
   "metadata": {},
   "outputs": [],
   "source": [
    "#Some isbns may be in the rating dataframe but not in the book metadata, so reduce data to only isbns also present in books metadata dataframe\n",
    "data = data[data[\"isbn\"].isin(books.index)]"
   ]
  },
  {
   "cell_type": "markdown",
   "metadata": {},
   "source": [
    "# Create a rating matrix using scipy as easier to find empty ratings"
   ]
  },
  {
   "cell_type": "code",
   "execution_count": 35,
   "metadata": {},
   "outputs": [],
   "source": [
    "from scipy.sparse import coo_matrix \n",
    "data['user']=data['user'].astype(\"category\")\n",
    "data['isbn']=data['isbn'].astype(\"category\")\n",
    "\n",
    "R = coo_matrix((data['rating'].astype(float),\n",
    "                (data['user'].cat.codes.copy(),\n",
    "                 data['user'].cat.codes.copy())))"
   ]
  },
  {
   "cell_type": "code",
   "execution_count": 36,
   "metadata": {},
   "outputs": [
    {
     "data": {
      "text/plain": [
       "(92107, 92107)"
      ]
     },
     "execution_count": 36,
     "metadata": {},
     "output_type": "execute_result"
    }
   ],
   "source": [
    "R.shape"
   ]
  },
  {
   "cell_type": "code",
   "execution_count": 38,
   "metadata": {},
   "outputs": [
    {
     "data": {
      "text/plain": [
       "1031175"
      ]
     },
     "execution_count": 38,
     "metadata": {},
     "output_type": "execute_result"
    }
   ],
   "source": [
    "#R.data gets the non null elements of the matrix - this no is far less than prod of rows and cols\n",
    "len(R.data)"
   ]
  },
  {
   "cell_type": "code",
   "execution_count": 39,
   "metadata": {},
   "outputs": [
    {
     "data": {
      "text/plain": [
       "0.0"
      ]
     },
     "execution_count": 39,
     "metadata": {},
     "output_type": "execute_result"
    }
   ],
   "source": [
    "#first element(rating) of data array \n",
    "R.data[0]"
   ]
  },
  {
   "cell_type": "code",
   "execution_count": 40,
   "metadata": {},
   "outputs": [
    {
     "data": {
      "text/plain": [
       "91363"
      ]
     },
     "execution_count": 40,
     "metadata": {},
     "output_type": "execute_result"
    }
   ],
   "source": [
    "R.row[0]"
   ]
  },
  {
   "cell_type": "code",
   "execution_count": 41,
   "metadata": {},
   "outputs": [
    {
     "data": {
      "text/plain": [
       "91363"
      ]
     },
     "execution_count": 41,
     "metadata": {},
     "output_type": "execute_result"
    }
   ],
   "source": [
    "R.col[0]"
   ]
  },
  {
   "cell_type": "markdown",
   "metadata": {},
   "source": [
    "# Initialize Factor matrics"
   ]
  },
  {
   "cell_type": "code",
   "execution_count": 42,
   "metadata": {},
   "outputs": [],
   "source": [
    "M,N = R.shape\n",
    "K=3"
   ]
  },
  {
   "cell_type": "code",
   "execution_count": 43,
   "metadata": {},
   "outputs": [],
   "source": [
    "#Generate the P and Q matrics with random numbers\n",
    "import numpy as np\n",
    "P = np.random.rand(M, K)\n",
    "Q = np.random.rand(K, N)"
   ]
  },
  {
   "cell_type": "code",
   "execution_count": 54,
   "metadata": {},
   "outputs": [],
   "source": [
    "#Compute Error \n",
    "from numpy.linalg import norm\n",
    "\n",
    "def error(R, P, Q, lamda=0.02):\n",
    "    ratings = R.data\n",
    "    rows = R.row\n",
    "    cols = R.col\n",
    "    e=0\n",
    "    for ui in range(len(ratings)):\n",
    "        rui=ratings[ui]\n",
    "        u = rows[ui]\n",
    "        i = cols[ui]\n",
    "        if rui>0 :\n",
    "            e=e+pow(rui-np.dot(P[u,:], Q[:,i]), 2)+\\\n",
    "                    lamda*(pow(norm(Q[:,i]), 2))\n",
    "    return e"
   ]
  },
  {
   "cell_type": "code",
   "execution_count": 55,
   "metadata": {},
   "outputs": [
    {
     "data": {
      "text/plain": [
       "19516481.63548536"
      ]
     },
     "execution_count": 55,
     "metadata": {},
     "output_type": "execute_result"
    }
   ],
   "source": [
    "error(R,P,Q)"
   ]
  },
  {
   "cell_type": "code",
   "execution_count": 56,
   "metadata": {},
   "outputs": [
    {
     "data": {
      "text/plain": [
       "4.350453949892627"
      ]
     },
     "execution_count": 56,
     "metadata": {},
     "output_type": "execute_result"
    }
   ],
   "source": [
    "#commute the root mean squared error\n",
    "rmse =  np.sqrt(error(R,P,Q)/len(R.data))\n",
    "rmse"
   ]
  },
  {
   "cell_type": "markdown",
   "metadata": {},
   "source": [
    "## Reduce this error using the stochastic Gradient Descent  "
   ]
  },
  {
   "cell_type": "code",
   "execution_count": 61,
   "metadata": {},
   "outputs": [],
   "source": [
    "#gamma is step size, determine gamma lammda by trial and error\n",
    "def SGD(R, K, lamda=0.02, steps=1, gamma=0.001):\n",
    "    M,N=R.shape\n",
    "    P = np.random.rand(M, K)\n",
    "    Q = np.random.rand(K, N)\n",
    "    rmse =  np.sqrt(error(R,P,Q, lamda)/len(R.data))\n",
    "    print(\"Intial RMSE: \"+str(rmse))\n",
    "    for step in range(steps):\n",
    "        ratings = R.data\n",
    "        rows = R.row\n",
    "        cols = R.col\n",
    "        #iterate throough each rating and update values of Pu and Qi\n",
    "        for ui in range(len(R.data)):\n",
    "            rui=ratings[ui]\n",
    "            u = rows[ui]\n",
    "            i = cols[ui]\n",
    "            if rui>0 :\n",
    "                eui = rui-np.dot(P[u,:], Q[:,i])\n",
    "                P[u,:]=P[u,:]+gamma*2*(eui*Q[:,i]-lamda*P[u,:])\n",
    "                Q[:,i]=Q[:,i]+gamma*2*(eui*P[u,:]-lamda*Q[:,i])\n",
    "        rmse =  np.sqrt(error(R,P,Q,lamda)/len(R.data))\n",
    "        if rmse<0.5:\n",
    "            break\n",
    "    print(\"Final RMSE: \"+str(rmse))\n",
    "    return P,Q"
   ]
  },
  {
   "cell_type": "code",
   "execution_count": 62,
   "metadata": {},
   "outputs": [
    {
     "name": "stdout",
     "output_type": "stream",
     "text": [
      "Intial RMSE: 4.492189899990504\n",
      "Final RMSE: 3.3487574751010785\n"
     ]
    }
   ],
   "source": [
    "(P,Q)=SGD(R,K=2, gamma=0.0007, lamda=0.01, steps=2)"
   ]
  },
  {
   "cell_type": "code",
   "execution_count": 63,
   "metadata": {},
   "outputs": [
    {
     "name": "stdout",
     "output_type": "stream",
     "text": [
      "Intial RMSE: 4.497370739034269\n",
      "Final RMSE: 1.2862262919853902\n"
     ]
    }
   ],
   "source": [
    "(P,Q)=SGD(R,K=2, gamma=0.0007, lamda=0.01, steps=100)"
   ]
  },
  {
   "cell_type": "code",
   "execution_count": null,
   "metadata": {},
   "outputs": [],
   "source": []
  }
 ],
 "metadata": {
  "kernelspec": {
   "display_name": "Python 3",
   "language": "python",
   "name": "python3"
  },
  "language_info": {
   "codemirror_mode": {
    "name": "ipython",
    "version": 3
   },
   "file_extension": ".py",
   "mimetype": "text/x-python",
   "name": "python",
   "nbconvert_exporter": "python",
   "pygments_lexer": "ipython3",
   "version": "3.7.0"
  }
 },
 "nbformat": 4,
 "nbformat_minor": 2
}
